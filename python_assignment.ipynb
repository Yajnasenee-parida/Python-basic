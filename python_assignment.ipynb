{
  "nbformat": 4,
  "nbformat_minor": 0,
  "metadata": {
    "colab": {
      "provenance": []
    },
    "kernelspec": {
      "name": "python3",
      "display_name": "Python 3"
    },
    "language_info": {
      "name": "python"
    }
  },
  "cells": [
    {
      "cell_type": "markdown",
      "source": [
        "# Python Basics Question's Answer\n",
        "1.Python is a programming language. It is easy to understand and write, making it a popular.\n",
        "\n",
        "2.Python interpreter is a program that directly executes code written in Python programming language.\n",
        "\n",
        "3.Pre-defined keywords in Python are reserved words that have special meanings and purposes within the language's syntax and structure.\n",
        "\n",
        "4.No, keywords cannot be used as variable names.\n",
        "\n",
        "5.In Python, mutability refers to whether an object's state or value can be changed after it has been created.\n",
        "\n",
        "6.Lists are mutable because it can modified after creation, but tuples are immutable because it cannot be modified after creation.\n",
        "\n",
        "7.In Python, the \"==\" and \"is\" operator serve distinct purposes in comparing objects.\n",
        "\"==\" operator compares the values of two objects.It checks data held by the objects is the same.\n",
        "\"is\" operator compares the identity of two objects. It checks whether two variables refer to the exact same object in memory.\n",
        "\n",
        "8.Logical operators in Python are used to combine or modify boolean expressions, enabling the creation of more complex conditional statements. They evaluate conditions and return a boolean value(True or False).\n",
        "\n",
        "9.Type casting in Python, is known as type conversion, is the process of changing one data type to another.\n",
        "\n",
        "10.Implicit type casting is done automatically by the compiler when it's safe and doesn't cause data loss.\n",
        "Explicit type casting is performed by the programmer using a cast operator (int,str,etc) to force a conversion, even if data loss might occur.\n",
        "\n",
        "11.The purpose of conditional statements in Python is to control the flow of execution in a program bases whether certain conditions are met. They enable a program to make desicions and perform different actions depending on the evaluation of specified conditions.\n",
        "\n",
        "12.The elif statement, a contraction of \"elseif\" is a conditional control flow statement used in programming languages like Python to test multiple conditions sequentially. It is always used in conjunction with an if statement and can be followed by an optional else statement.\n",
        "\n",
        "13.\"for\" loops are used for iterating over a sequence of elements, while \"while\" loops are used for executing code until a specified conditional becomes False.\n",
        "\n",
        "14.A while loop is more suitable than a for loop when the number of iterations is not known in advance and depends on a dynamic condition.\n",
        "Scenario: Implementing a menu-driven program that repeatedly prompts the user for input until a specific exit condition is met.\n",
        "Explanation: In this scenario, a **for** loop would be impractical because the program does not know beforehand how many times the user will interact with the menu before choosing to exit. The loop needs to continue as long as the user's input does not correspond to the exit option.\n",
        "A **while ** loop is ideal here because it continues to execute as long as a specified condition remains true. The condition would typically be a boolean variable indicating whether the user has chosen to exit.\n",
        "\n",
        "\n",
        "initialize exit_program = false\n",
        "\n",
        "while (exit_program is false):\n",
        "\n",
        "    display menu options\n",
        "    get user's choice\n",
        "    if user's choice is exit option:\n",
        "        set exit_program = true\n",
        "    else:\n",
        "        perform action based on user's choice\n",
        "\n",
        "\n",
        "This structure ensures the program continues to loop and present the menu until the user explicity decides to terminate the application. The number of iterations is entirely dependent on user interaction, making a while loop the most appropriate control flow structure.\n",
        "\n"
      ],
      "metadata": {
        "id": "_UfIqGbEFGkT"
      }
    },
    {
      "cell_type": "markdown",
      "source": [
        "# Practical Questions Answer"
      ],
      "metadata": {
        "id": "q1cl1xpWHY4n"
      }
    },
    {
      "cell_type": "code",
      "source": [
        "#1\n",
        "a =\"Hello, World!\"\n",
        "print(a)"
      ],
      "metadata": {
        "colab": {
          "base_uri": "https://localhost:8080/"
        },
        "id": "jZIB_ZFYHzJ6",
        "outputId": "9eec8792-423f-4e73-f6a5-5da0e64dd8a3"
      },
      "execution_count": null,
      "outputs": [
        {
          "output_type": "stream",
          "name": "stdout",
          "text": [
            "Hello, World!\n"
          ]
        }
      ]
    },
    {
      "cell_type": "code",
      "source": [
        "#2\n",
        "name = \"yajnasenee\"\n",
        "age = 24\n",
        "print(name)\n",
        "print(age)"
      ],
      "metadata": {
        "colab": {
          "base_uri": "https://localhost:8080/"
        },
        "id": "xSgrQ9RnHYRE",
        "outputId": "435a5112-5753-4ba3-8c11-283dbbecb2de"
      },
      "execution_count": null,
      "outputs": [
        {
          "output_type": "stream",
          "name": "stdout",
          "text": [
            "yajnasenee\n",
            "24\n"
          ]
        }
      ]
    },
    {
      "cell_type": "code",
      "source": [
        "#3\n",
        "import keyword\n",
        "print(keyword.kwlist)"
      ],
      "metadata": {
        "id": "0IYM-GSFUHpG",
        "colab": {
          "base_uri": "https://localhost:8080/"
        },
        "outputId": "c3f12274-d244-4af0-880d-14ae3f1d72da"
      },
      "execution_count": null,
      "outputs": [
        {
          "output_type": "stream",
          "name": "stdout",
          "text": [
            "['False', 'None', 'True', 'and', 'as', 'assert', 'async', 'await', 'break', 'class', 'continue', 'def', 'del', 'elif', 'else', 'except', 'finally', 'for', 'from', 'global', 'if', 'import', 'in', 'is', 'lambda', 'nonlocal', 'not', 'or', 'pass', 'raise', 'return', 'try', 'while', 'with', 'yield']\n"
          ]
        }
      ]
    },
    {
      "cell_type": "code",
      "source": [
        "#4\n",
        "word = input(\"Enter a word: \")\n",
        "\n",
        "if keyword.iskeyword(word):\n",
        "  print(f\"'{word}' is a Python keyword.\")\n",
        "else:\n",
        "  print(f\"'{word}' is NOT a Python keyword.\")"
      ],
      "metadata": {
        "id": "VWOVPo7JJI_x",
        "colab": {
          "base_uri": "https://localhost:8080/"
        },
        "outputId": "5fc471d9-1b73-47b9-c60c-4b67d931dae9"
      },
      "execution_count": null,
      "outputs": [
        {
          "output_type": "stream",
          "name": "stdout",
          "text": [
            "Enter a word: True\n",
            "'True' is a Python keyword.\n"
          ]
        }
      ]
    },
    {
      "cell_type": "code",
      "source": [
        "#5\n",
        "my_list =[1,2,3,\"yajnasenee\"] # lists are in square bracket\n",
        "type(my_list)\n",
        "\n",
        "my_tuple =(1,2,3,\"yajnaenee\") # tuples are in parenthesis\n",
        "type(my_tuple)"
      ],
      "metadata": {
        "colab": {
          "base_uri": "https://localhost:8080/"
        },
        "id": "zbTthwy9Xvsx",
        "outputId": "918b0320-8f2b-462a-e9c9-b86a695ed4ba"
      },
      "execution_count": null,
      "outputs": [
        {
          "output_type": "execute_result",
          "data": {
            "text/plain": [
              "tuple"
            ]
          },
          "metadata": {},
          "execution_count": 32
        }
      ]
    },
    {
      "cell_type": "code",
      "source": [
        "#6\n",
        "my_list =[1,2,3,4,5]\n",
        "my_tuple =(1,2,3,4,5)\n",
        "\n",
        "#modifying list\n",
        "my_list[3] = \"yajnasenee\"\n",
        "my_list  # this work because lists are mutable\n",
        "\n",
        "my_tuple[3] = \"yajnasenee\" # this is not work because tuples are immutable it through errors\n",
        "\n"
      ],
      "metadata": {
        "id": "_kvYvbiuI8Wh",
        "colab": {
          "base_uri": "https://localhost:8080/"
        },
        "outputId": "f2c145fe-a7a8-4d79-8f20-2880ea9abcca"
      },
      "execution_count": null,
      "outputs": [
        {
          "output_type": "execute_result",
          "data": {
            "text/plain": [
              "[1, 2, 3, 'yajnasenee', 5]"
            ]
          },
          "metadata": {},
          "execution_count": 24
        }
      ]
    },
    {
      "cell_type": "code",
      "source": [
        "#7\n",
        "num1 = int(input(\"enter first number\"))\n",
        "num2 = int(input(\"enter second number\"))\n",
        "add = num1 + num2\n",
        "print(add)\n",
        "sub = num1 - num2\n",
        "print(sub)\n",
        "mul = num1 * num2\n",
        "print(mul)\n",
        "div = num1/num2\n",
        "print(div)"
      ],
      "metadata": {
        "colab": {
          "base_uri": "https://localhost:8080/"
        },
        "id": "-omLDZSIXW8I",
        "outputId": "aac97e28-4cef-42f2-e214-2e70e3567d4b"
      },
      "execution_count": null,
      "outputs": [
        {
          "output_type": "stream",
          "name": "stdout",
          "text": [
            "enter first number20\n",
            "enter second number10\n",
            "30\n",
            "10\n",
            "200\n",
            "2.0\n"
          ]
        }
      ]
    },
    {
      "cell_type": "code",
      "source": [
        "#8\n",
        "a = True\n",
        "b = False\n",
        "print(a and b)\n",
        "print(a or b)\n",
        "print(not a)\n",
        "print(not b)\n"
      ],
      "metadata": {
        "colab": {
          "base_uri": "https://localhost:8080/"
        },
        "id": "_N2jowiAeqkr",
        "outputId": "1e69b1d7-fc4c-4382-b33a-5371faeba5ab"
      },
      "execution_count": null,
      "outputs": [
        {
          "output_type": "stream",
          "name": "stdout",
          "text": [
            "False\n",
            "True\n",
            "False\n",
            "True\n"
          ]
        }
      ]
    },
    {
      "cell_type": "code",
      "source": [
        "#9\n",
        "a = input(\"enter a name\")\n",
        "print(type(a))\n",
        "print(type(int(a))) # input user cannot convert str to int, it through error\n",
        "print(type(float(a))) # input user cannot convert str to float, it through error\n",
        "print(type(bool(a))) # input user convert srt to boolean, bt it give true or false\n"
      ],
      "metadata": {
        "id": "wYOyugcWeqhN",
        "colab": {
          "base_uri": "https://localhost:8080/"
        },
        "outputId": "d0f733c5-7ce6-4f1f-8ebc-1e2f0029e724"
      },
      "execution_count": null,
      "outputs": [
        {
          "output_type": "stream",
          "name": "stdout",
          "text": [
            "enter a namepw skills\n",
            "<class 'str'>\n",
            "<class 'bool'>\n"
          ]
        }
      ]
    },
    {
      "cell_type": "code",
      "source": [
        "#10\n",
        "a=[1,2,3,4]\n",
        "print(a)\n",
        "print(type(a))\n",
        "print(type(int(a))) # it through error\n",
        "print(type(str(a)))\n",
        "print(type(float(a))) # it through error\n",
        "print(type(bool(a)))"
      ],
      "metadata": {
        "id": "J3Oubt86eqX5",
        "colab": {
          "base_uri": "https://localhost:8080/"
        },
        "outputId": "83dce30e-582c-4757-da85-743e781d583d"
      },
      "execution_count": null,
      "outputs": [
        {
          "output_type": "stream",
          "name": "stdout",
          "text": [
            "[1, 2, 3, 4]\n",
            "<class 'list'>\n",
            "<class 'bool'>\n"
          ]
        }
      ]
    },
    {
      "cell_type": "code",
      "source": [
        "#11\n",
        "num = int(input(\"enter a number\"))\n",
        "if num > 0:\n",
        "   print(\"The number is positive number\")\n",
        "elif num < 0:\n",
        "   print(\"The number is negative number\")\n",
        "else:\n",
        "   print(\"The number is zero\")"
      ],
      "metadata": {
        "id": "6Ydwl36oeqUa"
      },
      "execution_count": null,
      "outputs": []
    },
    {
      "cell_type": "code",
      "source": [
        "#12\n",
        "for i in range (11):\n",
        "  print(i)"
      ],
      "metadata": {
        "id": "K-_dcOAGepmI",
        "colab": {
          "base_uri": "https://localhost:8080/"
        },
        "outputId": "84d639c5-09e9-481d-cc2e-107143a5d843"
      },
      "execution_count": null,
      "outputs": [
        {
          "output_type": "stream",
          "name": "stdout",
          "text": [
            "0\n",
            "1\n",
            "2\n",
            "3\n",
            "4\n",
            "5\n",
            "6\n",
            "7\n",
            "8\n",
            "9\n",
            "10\n"
          ]
        }
      ]
    },
    {
      "cell_type": "code",
      "source": [
        "#13\n",
        "list(range (2,51,2))"
      ],
      "metadata": {
        "colab": {
          "base_uri": "https://localhost:8080/"
        },
        "id": "DYpUp6DCt9lD",
        "outputId": "13b65ae3-887b-43db-f197-a9a137c9a2b8"
      },
      "execution_count": null,
      "outputs": [
        {
          "output_type": "execute_result",
          "data": {
            "text/plain": [
              "[2,\n",
              " 4,\n",
              " 6,\n",
              " 8,\n",
              " 10,\n",
              " 12,\n",
              " 14,\n",
              " 16,\n",
              " 18,\n",
              " 20,\n",
              " 22,\n",
              " 24,\n",
              " 26,\n",
              " 28,\n",
              " 30,\n",
              " 32,\n",
              " 34,\n",
              " 36,\n",
              " 38,\n",
              " 40,\n",
              " 42,\n",
              " 44,\n",
              " 46,\n",
              " 48,\n",
              " 50]"
            ]
          },
          "metadata": {},
          "execution_count": 67
        }
      ]
    },
    {
      "cell_type": "code",
      "metadata": {
        "colab": {
          "base_uri": "https://localhost:8080/"
        },
        "id": "981eb29f",
        "outputId": "3b9b3ea2-3ccb-4125-ce3a-8fc3ab91ffbb"
      },
      "source": [
        "#14\n",
        "my_string = \"hello world\"\n",
        "reversed_my_string = reverse_string_while(my_string)\n",
        "print(my_string)\n",
        "print(reversed_my_string)"
      ],
      "execution_count": 5,
      "outputs": [
        {
          "output_type": "stream",
          "name": "stdout",
          "text": [
            "hello world\n",
            "dlrow olleh\n"
          ]
        }
      ]
    },
    {
      "cell_type": "code",
      "metadata": {
        "colab": {
          "base_uri": "https://localhost:8080/"
        },
        "id": "941d814e",
        "outputId": "a7b495af-1593-42f3-88bc-ae744389ebc5"
      },
      "source": [
        "#15\n",
        "num = int(input(\"Enter a non-negative integer: \"))\n",
        "\n",
        "if num < 0:\n",
        "   print(\"Factorial is not defined for negative numbers\")\n",
        "elif num == 0:\n",
        "   print(\"The factorial of 0 is 1\")\n",
        "else:\n",
        "   factorial = 1\n",
        "   i = 1\n",
        "   while i <= num:\n",
        "       factorial = factorial * i\n",
        "       i = i + 1\n",
        "   print(f\"The factorial of {num} is {factorial}\")"
      ],
      "execution_count": 7,
      "outputs": [
        {
          "output_type": "stream",
          "name": "stdout",
          "text": [
            "Enter a non-negative integer: 20\n",
            "The factorial of 20 is 2432902008176640000\n"
          ]
        }
      ]
    }
  ]
}